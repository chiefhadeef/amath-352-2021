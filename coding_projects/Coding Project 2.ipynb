{
 "cells": [
  {
   "cell_type": "markdown",
   "metadata": {},
   "source": [
    "# [Coding Project 2](https://github.com/trogdoncourses/amath-352-2021)\n",
    "### Due January 22 at 11:59pm\n",
    "\n",
    "If you wish to do this project in `python`, please visit my office hours.  It can be done but it is not recommended.\n",
    "\n",
    "Assignment should be submitted to Gradescope.   You will have 15 attempts at this assignemnt."
   ]
  },
  {
   "cell_type": "markdown",
   "metadata": {},
   "source": [
    "## Task 1\n",
    "### For loops and if statements\n",
    "\n",
    "Let $f(x) = x^2$.  In this problem you will code a Monte Carlo integrator to approximate\n",
    "$$\n",
    "\\int_{0}^1 x^2 dx = 1/3.\n",
    "$$\n",
    "The MATLAB command `rand(1)` returns a (pseudo)random number which lies in $(0,1)$.  Like we did in Coding project 0, define\n",
    "\n",
    "`r = RandStream('mt19937ar','Seed',1234);`\n",
    "\n",
    "and call `r.rand(1)`.\n",
    "\n",
    "\n",
    "The following pseudo code approximates the integral above:"
   ]
  },
  {
   "cell_type": "markdown",
   "metadata": {},
   "source": [
    "```\n",
    "INPUT: samples, the # of samples\n",
    "OUTPUT: An approximation of the integral\n",
    "\n",
    "STEP 1: Set total = 0\n",
    "STEP 2: For j = 1 to samples do STEPS 3-5\n",
    "   STEP 3: x = r.rand(1)\n",
    "   STEP 4: y = r.rand(1)\n",
    "   STEP 5: if y < x^2 add one to total\n",
    "STEP 6:  OUTPUT(total/samples*(area of a square with side length one)); STOP.\n",
    "```"
   ]
  },
  {
   "cell_type": "markdown",
   "metadata": {},
   "source": [
    "Your job is to translate this into MATLAB code and compute the approximation to the integral for `samples = 100, 1000, 10000`.  Save your output as a row vector to the variable `T1`."
   ]
  },
  {
   "cell_type": "markdown",
   "metadata": {},
   "source": [
    "## Task 2\n",
    "\n",
    "Gaussian elimination without pivoting is given below."
   ]
  },
  {
   "cell_type": "markdown",
   "metadata": {},
   "source": [
    "```\n",
    "INPUT: A is an n x m matrix, m >= n\n",
    "OUTPUT:  A an n x m upper-triangular matrix, or a message of failure\n",
    "STEP 1: For i = 1,2,...,n-1 do STEP 3\n",
    "  STEP 3: For j = i+1,i+2,...,n do STEP 4-5\n",
    "    STEP 4: If A(i,i) = 0\n",
    "      OUTPUT('Method failed: pivoting needed')\n",
    "    STEP 5: Do R_j - A(j,i)/A(i,i) R_i --> R_j on A\n",
    "STEP 6: OUTPUT(A); STOP.\n",
    "```"
   ]
  },
  {
   "cell_type": "markdown",
   "metadata": {},
   "source": [
    "Implement this code in MATLAB and apply it to the matrix `A` where\n",
    "\n",
    "```\n",
    "r = RandStream('mt19937ar','Seed',1234);\n",
    "A = r.randn(6,7);\n",
    "```\n",
    "Be sure to reinitialize `r`! At the end of STEP 3, for each $i$, you have a matrix $A^{(i)}$ with zeros below the diagonal on the $i$th column.  Construct the matrix\n",
    "$$\n",
    "\\begin{bmatrix} A^{(1)} \\\\ A^{(2)} \\\\ \\vdots \\\\ A^{(n-1)}\\end{bmatrix}\n",
    "$$\n",
    "and save it to the variable `T2`.  It will be a $30 \\times 7$ output matrix."
   ]
  },
  {
   "cell_type": "markdown",
   "metadata": {},
   "source": [
    "To help you check your code here is the output $A^{(1)},A^{(2)},\\ldots$ for the matrix.  Note: To solve the problem you'll need much higher accuracy than what just copying this data will give you!"
   ]
  },
  {
   "cell_type": "code",
   "execution_count": 3,
   "metadata": {},
   "outputs": [
    {
     "name": "stdout",
     "output_type": "stream",
     "text": [
      "\n",
      "T2 =\n",
      "\n",
      "   -0.9472   -0.4449    0.4571   -0.5424   -0.3297    0.3318   -0.2091\n",
      "         0    1.0747    1.1824    0.2583    1.0446   -0.9683    0.3594\n",
      "         0    0.9355   -0.3019   -2.6956   -0.4673    0.5266   -3.1692\n",
      "         0    0.0460    0.6493   -0.8945   -0.2194    0.9597   -1.4587\n",
      "         0   -0.7252    0.6444    0.4190    0.7669   -0.2354   -2.6954\n",
      "         0    0.1935    0.6431    0.6727   -0.2453    1.7275    1.0027\n",
      "   -0.9472   -0.4449    0.4571   -0.5424   -0.3297    0.3318   -0.2091\n",
      "         0    1.0747    1.1824    0.2583    1.0446   -0.9683    0.3594\n",
      "         0         0   -1.3312   -2.9205   -1.3766    1.3694   -3.4821\n",
      "         0         0    0.5987   -0.9055   -0.2641    1.0011   -1.4741\n",
      "         0         0    1.4423    0.5933    1.4718   -0.8888   -2.4529\n",
      "         0         0    0.4302    0.6261   -0.4334    1.9019    0.9380\n",
      "   -0.9472   -0.4449    0.4571   -0.5424   -0.3297    0.3318   -0.2091\n",
      "         0    1.0747    1.1824    0.2583    1.0446   -0.9683    0.3594\n",
      "         0         0   -1.3312   -2.9205   -1.3766    1.3694   -3.4821\n",
      "         0         0         0   -2.2191   -0.8833    1.6170   -3.0402\n",
      "         0         0    0.0000   -2.5711   -0.0198    0.5950   -6.2258\n",
      "         0         0         0   -0.3176   -0.8783    2.3444   -0.1872\n",
      "   -0.9472   -0.4449    0.4571   -0.5424   -0.3297    0.3318   -0.2091\n",
      "         0    1.0747    1.1824    0.2583    1.0446   -0.9683    0.3594\n",
      "         0         0   -1.3312   -2.9205   -1.3766    1.3694   -3.4821\n",
      "         0         0         0   -2.2191   -0.8833    1.6170   -3.0402\n",
      "         0         0    0.0000         0    1.0036   -1.2785   -2.7033\n",
      "         0         0         0         0   -0.7519    2.1130    0.2479\n",
      "   -0.9472   -0.4449    0.4571   -0.5424   -0.3297    0.3318   -0.2091\n",
      "         0    1.0747    1.1824    0.2583    1.0446   -0.9683    0.3594\n",
      "         0         0   -1.3312   -2.9205   -1.3766    1.3694   -3.4821\n",
      "         0         0         0   -2.2191   -0.8833    1.6170   -3.0402\n",
      "         0         0    0.0000         0    1.0036   -1.2785   -2.7033\n",
      "         0         0    0.0000         0         0    1.1552   -1.7773\n",
      "\n"
     ]
    }
   ],
   "source": [
    "T2"
   ]
  },
  {
   "cell_type": "markdown",
   "metadata": {},
   "source": [
    "## Task 3\n",
    "\n",
    "Backward substitution.\n",
    "\n",
    "Suppose you are given an $n \\times (n+1)$ matrix $U$ that has zeros below the diagonal such as:"
   ]
  },
  {
   "cell_type": "markdown",
   "metadata": {},
   "source": [
    "```\n",
    "0.1915     0.7800    0.9581     0.6835    0.5031\n",
    "0         -2.2610   -2.2364    -1.5074   -1.6204\n",
    "0          0        -0.3422    -0.1877    0.7025\n",
    "0          0         0         -0.0638   -1.6334\n",
    "```"
   ]
  },
  {
   "cell_type": "markdown",
   "metadata": {},
   "source": [
    "The backward subsitituion algorithm is given by\n",
    "```\n",
    "INPUT: U is an n x n + 1 upper-triangular matrix with non-zero diagonal entries\n",
    "OUTPUT: the solution to U(1:n,1:n)x=U(1:n,n+1)\n",
    "STEP 1: Set x = U(:,n+1)\n",
    "STEP 2: \n",
    "    If U(n,n) = 0 then\n",
    "        OUTPUT('Method failed: singular matrix')\n",
    "        STOP.\n",
    "    Else set x(n) = U(n,n+1)/U(n,n)\n",
    "STEP 3: For i = n-1,...,1 do STEP 4\n",
    "    STEP 4:\n",
    "      If U(i,i) = 0 then\n",
    "        OUTPUT('Method failed: singular matrix')\n",
    "        STOP.\n",
    "      Else set\n",
    "        x(i) = [U(i,n+1) - SUM( U(i,j)x(j), j= i+1,...,n )]\n",
    "        x(i) = x(i)/U(i,i)\n",
    "STEP 5: OUTPUT(x); STOP.\n",
    "```\n",
    "Implement this algorithm in MATLAB. Apply it to the matrix that results from Task 2.  If you are not confident in your solution to Task 2, you can access this directly via\n",
    "```\n",
    "url = 'https://raw.githubusercontent.com/trogdoncourses/amath-352-2021/main/coding_projects/U.csv';\n",
    "filename = 'U.csv';\n",
    "outfilename = websave(filename,url);\n",
    "U = table2array(readtable(filename));\n",
    "```\n",
    "The variable `U` will then be defined appropriately.  Note that this file will be present on the Gradescope server.  At the end of STEP 4, for each $i$, you have a vector $\\vec x^{(i)}$.  Construct the matrix\n",
    "$$\n",
    "\\begin{bmatrix} \\vec x^{(n-1)} & \\vec x^{(n-2)} & \\cdots & \\vec x^{(1)}\\end{bmatrix}\n",
    "$$\n",
    "and save it to the variable `T3`.  Will be a $6 \\times 5$ output matrix:"
   ]
  },
  {
   "cell_type": "code",
   "execution_count": 5,
   "metadata": {},
   "outputs": [
    {
     "name": "stdout",
     "output_type": "stream",
     "text": [
      "\n",
      "T3 =\n",
      "\n",
      "   -0.2091   -0.2091   -0.2091   -0.2091   -0.0601\n",
      "    0.3594    0.3594    0.3594    1.6070    1.6070\n",
      "   -3.4821   -3.4821    1.2356    1.2356    1.2356\n",
      "   -3.0402    2.1012    2.1012    2.1012    2.1012\n",
      "   -4.6536   -4.6536   -4.6536   -4.6536   -4.6536\n",
      "   -1.5385   -1.5385   -1.5385   -1.5385   -1.5385\n",
      "\n"
     ]
    }
   ],
   "source": [
    "T3"
   ]
  },
  {
   "cell_type": "markdown",
   "metadata": {},
   "source": [
    "Hint:  You can easily check your answer: `U(1:n,1:n)*x - U(:,n+1)` should be nearly zero."
   ]
  },
  {
   "cell_type": "markdown",
   "metadata": {},
   "source": [
    "## Task 4\n",
    "\n",
    "Modify your code for Task 2 to include partial pivoting.  Save the data in the same format in `CP1_T4.dat`.  Be sure to reinitialize `r = RandStream('mt19937ar','Seed',1234);`!\n",
    "\n",
    "Hint:  `STEP 2` is missing in the pseudocode for Task 2.  Insert your modifications there."
   ]
  },
  {
   "cell_type": "code",
   "execution_count": 7,
   "metadata": {},
   "outputs": [
    {
     "name": "stdout",
     "output_type": "stream",
     "text": [
      "\n",
      "T4 =\n",
      "\n",
      "    1.3170   -0.1067    0.0089    1.1732    1.2253   -0.6968   -2.4047\n",
      "         0    1.3721    0.9181    0.0864    0.7300   -0.8717    1.4649\n",
      "         0    0.8163   -0.1959   -2.6267   -0.3412    0.4878   -3.6125\n",
      "         0    0.7008    0.0675   -1.2728   -0.9118    1.1722    0.9748\n",
      "   -0.0000   -0.5216    0.4635    0.3014    0.5516   -0.1693   -1.9387\n",
      "         0   -0.0298    0.8416    0.8017   -0.0091    1.6550    0.1726\n",
      "    1.3170   -0.1067    0.0089    1.1732    1.2253   -0.6968   -2.4047\n",
      "         0    1.3721    0.9181    0.0864    0.7300   -0.8717    1.4649\n",
      "         0         0   -0.7420   -2.6781   -0.7754    1.0064   -4.4840\n",
      "         0         0   -0.4014   -1.3169   -1.2846    1.6174    0.2267\n",
      "   -0.0000         0    0.8125    0.3342    0.8291   -0.5007   -1.3818\n",
      "         0         0    0.8615    0.8036    0.0068    1.6361    0.2044\n",
      "    1.3170   -0.1067    0.0089    1.1732    1.2253   -0.6968   -2.4047\n",
      "         0    1.3721    0.9181    0.0864    0.7300   -0.8717    1.4649\n",
      "         0         0    0.8615    0.8036    0.0068    1.6361    0.2044\n",
      "         0         0         0   -0.9425   -1.2815    2.3796    0.3219\n",
      "   -0.0000         0         0   -0.4236    0.8227   -2.0437   -1.5746\n",
      "         0         0         0   -1.9860   -0.7696    2.4155   -4.3079\n",
      "    1.3170   -0.1067    0.0089    1.1732    1.2253   -0.6968   -2.4047\n",
      "         0    1.3721    0.9181    0.0864    0.7300   -0.8717    1.4649\n",
      "         0         0    0.8615    0.8036    0.0068    1.6361    0.2044\n",
      "         0         0         0   -1.9860   -0.7696    2.4155   -4.3079\n",
      "   -0.0000         0         0         0    0.9869   -2.5589   -0.6557\n",
      "         0         0         0         0   -0.9162    1.2332    2.3664\n",
      "    1.3170   -0.1067    0.0089    1.1732    1.2253   -0.6968   -2.4047\n",
      "         0    1.3721    0.9181    0.0864    0.7300   -0.8717    1.4649\n",
      "         0         0    0.8615    0.8036    0.0068    1.6361    0.2044\n",
      "         0         0         0   -1.9860   -0.7696    2.4155   -4.3079\n",
      "   -0.0000         0         0         0    0.9869   -2.5589   -0.6557\n",
      "   -0.0000         0         0         0         0   -1.1425    1.7577\n",
      "\n"
     ]
    }
   ],
   "source": [
    "T4"
   ]
  }
 ],
 "metadata": {
  "kernelspec": {
   "display_name": "Matlab",
   "language": "matlab",
   "name": "matlab"
  },
  "language_info": {
   "codemirror_mode": "octave",
   "file_extension": ".m",
   "help_links": [
    {
     "text": "MetaKernel Magics",
     "url": "https://metakernel.readthedocs.io/en/latest/source/README.html"
    }
   ],
   "mimetype": "text/x-octave",
   "name": "matlab",
   "version": "0.16.11"
  }
 },
 "nbformat": 4,
 "nbformat_minor": 2
}
