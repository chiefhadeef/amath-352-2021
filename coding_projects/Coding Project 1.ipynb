{
 "cells": [
  {
   "cell_type": "markdown",
   "metadata": {},
   "source": [
    "# Coding Project 1"
   ]
  },
  {
   "cell_type": "markdown",
   "metadata": {},
   "source": [
    "The purpose of this project is for you to get comfortable with the construction of a Matlab file and its submission to gradescope.\n",
    "\n",
    "You are invited to complete these tasks yourself.  But the solution to this is given on Canvas so you can upload.\n",
    "\n",
    "Note that Task 2 requires you to load a file.  For all coding projects, such extra files will be held in the GitHub repository and will be on gradescope so that you only need to upload your solution as a `.m`-file."
   ]
  },
  {
   "cell_type": "markdown",
   "metadata": {},
   "source": [
    "## Task 1"
   ]
  },
  {
   "cell_type": "markdown",
   "metadata": {},
   "source": [
    "Write a for loop to add up all the positive integers that are less than or equal to 11.  Save the output in a variable named `T1`."
   ]
  },
  {
   "cell_type": "markdown",
   "metadata": {},
   "source": [
    "## Task 2"
   ]
  },
  {
   "cell_type": "markdown",
   "metadata": {},
   "source": [
    "Download `matrix.csv` from the course GitHub repository.\n",
    "\n",
    "Import and define a matrix `A` using the code\n",
    "\n",
    "```\n",
    "A = table2array(readtable('matrix.csv'));\n",
    "```\n",
    "\n",
    "Then find the submatrix of `A` consisting of all entries that are both in rows 2 through 7 and in columns 2 through 7."
   ]
  }
 ],
 "metadata": {
  "kernelspec": {
   "display_name": "Matlab",
   "language": "matlab",
   "name": "matlab"
  },
  "language_info": {
   "codemirror_mode": "octave",
   "file_extension": ".m",
   "help_links": [
    {
     "text": "MetaKernel Magics",
     "url": "https://metakernel.readthedocs.io/en/latest/source/README.html"
    }
   ],
   "mimetype": "text/x-octave",
   "name": "matlab",
   "version": "0.16.11"
  }
 },
 "nbformat": 4,
 "nbformat_minor": 4
}
