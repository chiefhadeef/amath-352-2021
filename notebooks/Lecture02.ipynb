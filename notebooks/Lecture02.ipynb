{
 "cells": [
  {
   "cell_type": "markdown",
   "metadata": {},
   "source": [
    "# Lecture 02\n",
    "\n",
    "## Olver & Shakiban 1.1 and 1.2"
   ]
  },
  {
   "cell_type": "markdown",
   "metadata": {
    "slideshow": {
     "slide_type": "slide"
    }
   },
   "source": [
    "# Basic MATLAB functionality"
   ]
  },
  {
   "cell_type": "markdown",
   "metadata": {
    "slideshow": {
     "slide_type": "slide"
    }
   },
   "source": [
    "### Plotting"
   ]
  },
  {
   "cell_type": "code",
   "execution_count": 1,
   "metadata": {},
   "outputs": [
    {
     "data": {
      "image/png": "[encoded data removed]",
      "text/plain": [
       "<IPython.core.display.Image object>"
      ]
     },
     "metadata": {},
     "output_type": "display_data"
    }
   ],
   "source": [
    "x = linspace(-1,1,300); % 300 equally-spaced points between -1 & 1\n",
    "plot(x,sin(x)) % Plot the sin function\n",
    "plot(x,cos(x),'--k'); % Plot cos in dashed black, replaces the plot\n",
    "hold on\n",
    "plot(x,sin(x)) % Plot together"
   ]
  },
  {
   "cell_type": "markdown",
   "metadata": {
    "slideshow": {
     "slide_type": "slide"
    }
   },
   "source": [
    "### Matrix/vector manipulation"
   ]
  },
  {
   "cell_type": "code",
   "execution_count": 2,
   "metadata": {
    "slideshow": {
     "slide_type": "slide"
    }
   },
   "outputs": [
    {
     "name": "stdout",
     "output_type": "stream",
     "text": [
      "\n",
      "ans =\n",
      "\n",
      "     7    10\n",
      "    15    22\n",
      "\n"
     ]
    }
   ],
   "source": [
    "A = [1 2; 3 4];\n",
    "A^2 % = A*A"
   ]
  },
  {
   "cell_type": "code",
   "execution_count": 3,
   "metadata": {
    "slideshow": {
     "slide_type": "slide"
    }
   },
   "outputs": [
    {
     "name": "stdout",
     "output_type": "stream",
     "text": [
      "\n",
      "ans =\n",
      "\n",
      "     1     4\n",
      "     9    16\n",
      "\n"
     ]
    }
   ],
   "source": [
    "A = [1 2; 3 4];\n",
    "A.^2 % != A*A"
   ]
  },
  {
   "cell_type": "code",
   "execution_count": 4,
   "metadata": {
    "slideshow": {
     "slide_type": "slide"
    }
   },
   "outputs": [
    {
     "name": "stdout",
     "output_type": "stream",
     "text": [
      "\n",
      "ans =\n",
      "\n",
      "     1\n",
      "     4\n",
      "     9\n",
      "\n"
     ]
    }
   ],
   "source": [
    "x = [1;2;3];\n",
    "x.*x"
   ]
  },
  {
   "cell_type": "code",
   "execution_count": 5,
   "metadata": {
    "slideshow": {
     "slide_type": "slide"
    }
   },
   "outputs": [
    {
     "name": "stderr",
     "output_type": "stream",
     "text": [
      "\u001b[0;31mError using *\n",
      "Incorrect dimensions for matrix multiplication. Check that the number of columns in the first matrix matches the number of rows in the second matrix. To perform elementwise multiplication, use '.*'.\n",
      "\n",
      "\u001b[0m"
     ]
    }
   ],
   "source": [
    "x = [1;2;3];\n",
    "x*x"
   ]
  },
  {
   "cell_type": "code",
   "execution_count": 6,
   "metadata": {
    "slideshow": {
     "slide_type": "slide"
    }
   },
   "outputs": [
    {
     "name": "stdout",
     "output_type": "stream",
     "text": [
      "\n",
      "ans =\n",
      "\n",
      "    0.3697    0.1793    0.1915\n",
      "    1.3247    0.9560    0.4405\n",
      "    1.6471    0.9958    0.6989\n",
      "    1.2258    0.5659    0.6575\n",
      "\n"
     ]
    }
   ],
   "source": [
    "A = rand(2,3);\n",
    "B = rand(4,2);\n",
    "B*A"
   ]
  },
  {
   "cell_type": "markdown",
   "metadata": {
    "slideshow": {
     "slide_type": "slide"
    }
   },
   "source": [
    "### For loop"
   ]
  },
  {
   "cell_type": "code",
   "execution_count": 7,
   "metadata": {},
   "outputs": [
    {
     "name": "stdout",
     "output_type": "stream",
     "text": [
      "\n",
      "SUM =\n",
      "\n",
      "   100\n",
      "\n"
     ]
    }
   ],
   "source": [
    "SUM = 0;\n",
    "for j = 1:100\n",
    "    SUM = SUM + 1;\n",
    "    end\n",
    "SUM"
   ]
  },
  {
   "cell_type": "markdown",
   "metadata": {
    "slideshow": {
     "slide_type": "slide"
    }
   },
   "source": [
    "### If statements"
   ]
  },
  {
   "cell_type": "code",
   "execution_count": 8,
   "metadata": {},
   "outputs": [
    {
     "name": "stdout",
     "output_type": "stream",
     "text": [
      "\n",
      "SUM =\n",
      "\n",
      "    50\n",
      "\n"
     ]
    }
   ],
   "source": [
    "SUM = 0;\n",
    "for j = 1:100\n",
    "    if j > 50\n",
    "        SUM = SUM + 1;\n",
    "    end\n",
    "end\n",
    "SUM"
   ]
  },
  {
   "cell_type": "markdown",
   "metadata": {
    "slideshow": {
     "slide_type": "slide"
    }
   },
   "source": [
    "### Matrix indexing\n",
    "\n",
    "$$ A = (a_{ij})_{1 \\leq i \\leq n, ~ 1 \\leq j \\leq n}$$"
   ]
  },
  {
   "cell_type": "code",
   "execution_count": 9,
   "metadata": {},
   "outputs": [
    {
     "name": "stdout",
     "output_type": "stream",
     "text": [
      "\n",
      "ans =\n",
      "\n",
      "    0.8235\n",
      "\n",
      "\n",
      "ans =\n",
      "\n",
      "    0.6787\n",
      "    0.7577\n",
      "    0.7431\n",
      "    0.3922\n",
      "    0.6555\n",
      "\n",
      "\n",
      "ans =\n",
      "\n",
      "    0.9157    0.8491    0.3922    0.2769    0.3171\n",
      "\n"
     ]
    }
   ],
   "source": [
    "A = rand(5,5);\n",
    "A(2,5) % get the entry in row 2, column 5\n",
    "A(:,3) % get column 3\n",
    "A(4,:) % get row 4"
   ]
  },
  {
   "cell_type": "markdown",
   "metadata": {
    "slideshow": {
     "slide_type": "slide"
    }
   },
   "source": [
    "### A nested loop  -- let's sum all the entries in a matrix"
   ]
  },
  {
   "cell_type": "code",
   "execution_count": 10,
   "metadata": {},
   "outputs": [
    {
     "name": "stdout",
     "output_type": "stream",
     "text": [
      "\n",
      "SUM =\n",
      "\n",
      "   110\n",
      "\n"
     ]
    }
   ],
   "source": [
    "A = ones(10,11);\n",
    "SUM = 0;\n",
    "[n,m] = size(A);  % find the # of rows and the # of columns\n",
    "for i = 1:n\n",
    "    for j = 1:m\n",
    "        SUM = SUM + A(i,j);\n",
    "    end\n",
    "end\n",
    "SUM"
   ]
  },
  {
   "cell_type": "markdown",
   "metadata": {
    "slideshow": {
     "slide_type": "slide"
    }
   },
   "source": [
    "### Make all entries below the diagonal equal to zero"
   ]
  },
  {
   "cell_type": "code",
   "execution_count": 11,
   "metadata": {},
   "outputs": [
    {
     "name": "stdout",
     "output_type": "stream",
     "text": [
      "\n",
      "A =\n",
      "\n",
      "     1     1     1     1     1     1     1     1     1     1\n",
      "     0     1     1     1     1     1     1     1     1     1\n",
      "     0     0     1     1     1     1     1     1     1     1\n",
      "     0     0     0     1     1     1     1     1     1     1\n",
      "     0     0     0     0     1     1     1     1     1     1\n",
      "     0     0     0     0     0     1     1     1     1     1\n",
      "     0     0     0     0     0     0     1     1     1     1\n",
      "     0     0     0     0     0     0     0     1     1     1\n",
      "     0     0     0     0     0     0     0     0     1     1\n",
      "     0     0     0     0     0     0     0     0     0     1\n",
      "\n"
     ]
    }
   ],
   "source": [
    "A = ones(10,10);\n",
    "SUM = 0;\n",
    "[n,m] = size(A);  % find the # of rows and the # of columns\n",
    "for i = 1:n\n",
    "    for j = 1:m\n",
    "        if i > j\n",
    "            A(i,j) = 0;\n",
    "        end\n",
    "    end\n",
    "end\n",
    "A"
   ]
  },
  {
   "cell_type": "markdown",
   "metadata": {
    "slideshow": {
     "slide_type": "slide"
    }
   },
   "source": [
    "### Other commands"
   ]
  },
  {
   "cell_type": "code",
   "execution_count": 12,
   "metadata": {
    "slideshow": {
     "slide_type": "slide"
    }
   },
   "outputs": [
    {
     "name": "stdout",
     "output_type": "stream",
     "text": [
      "\n",
      "ans =\n",
      "\n",
      "     1     0     0\n",
      "     0     1     0\n",
      "     0     0     1\n",
      "\n"
     ]
    }
   ],
   "source": [
    "eye(3) % identity matrix"
   ]
  },
  {
   "cell_type": "code",
   "execution_count": 13,
   "metadata": {
    "slideshow": {
     "slide_type": "slide"
    }
   },
   "outputs": [
    {
     "name": "stdout",
     "output_type": "stream",
     "text": [
      "\n",
      "A =\n",
      "\n",
      "     1     2\n",
      "     3     4\n",
      "\n",
      "\n",
      "ans =\n",
      "\n",
      "     1     3\n",
      "     2     4\n",
      "\n"
     ]
    }
   ],
   "source": [
    "A = [1,2;3,4]\n",
    "A' % transpose"
   ]
  },
  {
   "cell_type": "code",
   "execution_count": 14,
   "metadata": {
    "slideshow": {
     "slide_type": "slide"
    }
   },
   "outputs": [
    {
     "name": "stdout",
     "output_type": "stream",
     "text": [
      "\n",
      "A =\n",
      "\n",
      "   -1.7115    0.3129    0.6277    0.0774\n",
      "   -0.1022   -0.8649    1.0933   -1.2141\n",
      "   -0.2414   -0.0301    1.1093   -1.1135\n",
      "    0.3192   -0.1649   -0.8637   -0.0068\n",
      "\n",
      "\n",
      "ans =\n",
      "\n",
      "    1.7115    0.3129    0.6277    0.0774\n",
      "    0.1022    0.8649    1.0933    1.2141\n",
      "    0.2414    0.0301    1.1093    1.1135\n",
      "    0.3192    0.1649    0.8637    0.0068\n",
      "\n"
     ]
    }
   ],
   "source": [
    "A = randn(4)\n",
    "abs(A) % absolute value"
   ]
  }
 ],
 "metadata": {
  "celltoolbar": "Slideshow",
  "kernelspec": {
   "display_name": "Matlab",
   "language": "matlab",
   "name": "matlab"
  },
  "language_info": {
   "codemirror_mode": "octave",
   "file_extension": ".m",
   "help_links": [
    {
     "text": "MetaKernel Magics",
     "url": "https://metakernel.readthedocs.io/en/latest/source/README.html"
    }
   ],
   "mimetype": "text/x-octave",
   "name": "matlab",
   "version": "0.16.11"
  }
 },
 "nbformat": 4,
 "nbformat_minor": 2
}
