{
 "cells": [
  {
   "cell_type": "markdown",
   "metadata": {},
   "source": [
    "# Lecture 04\n",
    "\n",
    "## Olver & Shakiban 1.3 & 1.4"
   ]
  },
  {
   "cell_type": "markdown",
   "metadata": {},
   "source": [
    "## Creating your own functions\n",
    "\n",
    "I want to create a function `add_it_up(n)` that adds up all integers that are less than or equal to `n`.  We use the following code and put it at the bottom of our m-file. \n",
    "\n",
    "```\n",
    "function SUM = add_it_up(n)\n",
    "    SUM = 0;\n",
    "    for i = 1:n\n",
    "        SUM = SUM + i;\n",
    "    end\n",
    "end\n",
    "```\n",
    "Alternatively, the file `add_it_up.m` can be created using exactly this code as follows.  Then we just call it:"
   ]
  },
  {
   "cell_type": "code",
   "execution_count": 1,
   "metadata": {},
   "outputs": [
    {
     "name": "stdout",
     "output_type": "stream",
     "text": [
      "\n",
      "ans =\n",
      "\n",
      "    55\n",
      "\n",
      "\n",
      "ans =\n",
      "\n",
      "   210\n",
      "\n"
     ]
    }
   ],
   "source": [
    "add_it_up(10)\n",
    "add_it_up(20)"
   ]
  },
  {
   "cell_type": "markdown",
   "metadata": {},
   "source": [
    "## Gaussian elimination"
   ]
  },
  {
   "cell_type": "code",
   "execution_count": 2,
   "metadata": {},
   "outputs": [
    {
     "name": "stdout",
     "output_type": "stream",
     "text": [
      "\n",
      "A =\n",
      "\n",
      "    0.5377   -1.3077   -1.3499   -0.2050    0.6715\n",
      "    1.8339   -0.4336    3.0349   -0.1241   -1.2075\n",
      "   -2.2588    0.3426    0.7254    1.4897    0.7172\n",
      "    0.8622    3.5784   -0.0631    1.4090    1.6302\n",
      "    0.3188    2.7694    0.7147    1.4172    0.4889\n",
      "\n",
      "\n",
      "b =\n",
      "\n",
      "    1.0347\n",
      "    0.7269\n",
      "   -0.3034\n",
      "    0.2939\n",
      "   -0.7873\n",
      "\n"
     ]
    }
   ],
   "source": [
    "A = randn(5,5)\n",
    "b = randn(5,1)"
   ]
  },
  {
   "cell_type": "code",
   "execution_count": 3,
   "metadata": {},
   "outputs": [
    {
     "name": "stdout",
     "output_type": "stream",
     "text": [
      "    0.5377   -1.3077   -1.3499   -0.2050    0.6715    1.0347\n",
      "    0.0000    4.0267    7.6391    0.5750   -3.4978   -2.8023\n",
      "   -0.0000   -5.1512   -4.9457    0.6286    3.5383    4.0435\n",
      "         0    5.6753    2.1015    1.7377    0.5535   -1.3653\n",
      "         0    3.5447    1.5150    1.5387    0.0908   -1.4007\n",
      "\n",
      "    0.5377   -1.3077   -1.3499   -0.2050    0.6715    1.0347\n",
      "    0.0000    4.0267    7.6391    0.5750   -3.4978   -2.8023\n",
      "   -0.0000         0    4.8268    1.3641   -0.9364    0.4587\n",
      "   -0.0000         0   -8.6653    0.9273    5.4834    2.5843\n",
      "   -0.0000         0   -5.2097    1.0326    3.1700    1.0661\n",
      "\n",
      "    0.5377   -1.3077   -1.3499   -0.2050    0.6715    1.0347\n",
      "    0.0000    4.0267    7.6391    0.5750   -3.4978   -2.8023\n",
      "   -0.0000         0    4.8268    1.3641   -0.9364    0.4587\n",
      "   -0.0000         0         0    3.3763    3.8024    3.4077\n",
      "   -0.0000         0         0    2.5049    2.1593    1.5612\n",
      "\n",
      "    0.5377   -1.3077   -1.3499   -0.2050    0.6715    1.0347\n",
      "    0.0000    4.0267    7.6391    0.5750   -3.4978   -2.8023\n",
      "   -0.0000         0    4.8268    1.3641   -0.9364    0.4587\n",
      "   -0.0000         0         0    3.3763    3.8024    3.4077\n",
      "    0.0000         0         0         0   -0.6618   -0.9670\n",
      "\n",
      "\n",
      "U =\n",
      "\n",
      "    0.5377   -1.3077   -1.3499   -0.2050    0.6715    1.0347\n",
      "    0.0000    4.0267    7.6391    0.5750   -3.4978   -2.8023\n",
      "   -0.0000         0    4.8268    1.3641   -0.9364    0.4587\n",
      "   -0.0000         0         0    3.3763    3.8024    3.4077\n",
      "    0.0000         0         0         0   -0.6618   -0.9670\n",
      "\n"
     ]
    }
   ],
   "source": [
    "U = GE([A,b])"
   ]
  },
  {
   "cell_type": "code",
   "execution_count": 4,
   "metadata": {},
   "outputs": [
    {
     "name": "stdout",
     "output_type": "stream",
     "text": [
      "\n",
      "x =\n",
      "\n",
      "    0.2980\n",
      "   -0.3950\n",
      "    0.5584\n",
      "   -0.6364\n",
      "    1.4613\n",
      "\n"
     ]
    }
   ],
   "source": [
    "x = Backsub(U)"
   ]
  },
  {
   "cell_type": "code",
   "execution_count": 5,
   "metadata": {},
   "outputs": [
    {
     "name": "stdout",
     "output_type": "stream",
     "text": [
      "\n",
      "ans =\n",
      "\n",
      "   1.0e-14 *\n",
      "\n",
      "         0\n",
      "    0.0555\n",
      "    0.0611\n",
      "   -0.1277\n",
      "   -0.0222\n",
      "\n"
     ]
    }
   ],
   "source": [
    "A*x-b"
   ]
  },
  {
   "cell_type": "code",
   "execution_count": null,
   "metadata": {},
   "outputs": [],
   "source": []
  }
 ],
 "metadata": {
  "kernelspec": {
   "display_name": "Matlab",
   "language": "matlab",
   "name": "matlab"
  },
  "language_info": {
   "codemirror_mode": "octave",
   "file_extension": ".m",
   "help_links": [
    {
     "text": "MetaKernel Magics",
     "url": "https://metakernel.readthedocs.io/en/latest/source/README.html"
    }
   ],
   "mimetype": "text/x-octave",
   "name": "matlab",
   "version": "0.16.11"
  }
 },
 "nbformat": 4,
 "nbformat_minor": 2
}
