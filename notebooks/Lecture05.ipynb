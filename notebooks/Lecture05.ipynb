{
 "cells": [
  {
   "cell_type": "markdown",
   "metadata": {},
   "source": [
    "# Lecture 05\n",
    "\n",
    "## Matrix creation and manipulation in Matlab"
   ]
  },
  {
   "cell_type": "code",
   "execution_count": 1,
   "metadata": {},
   "outputs": [
    {
     "name": "stdout",
     "output_type": "stream",
     "text": [
      "\n",
      "Asave =\n",
      "\n",
      "     1     2     3     4\n",
      "     4     6     7     8\n",
      "     9    10    11    12\n",
      "\n"
     ]
    }
   ],
   "source": [
    "Asave = [1,2,3,4;\n",
    "4,6,7,8;\n",
    "9,10,11,12]"
   ]
  },
  {
   "cell_type": "markdown",
   "metadata": {},
   "source": [
    "Row operations of type 1"
   ]
  },
  {
   "cell_type": "code",
   "execution_count": 2,
   "metadata": {},
   "outputs": [
    {
     "name": "stdout",
     "output_type": "stream",
     "text": [
      "\n",
      "A =\n",
      "\n",
      "     1     2     3     4\n",
      "     0    -2    -5    -8\n",
      "     9    10    11    12\n",
      "\n"
     ]
    }
   ],
   "source": [
    "A = Asave;\n",
    "A(2,:) = A(2,:) - (4)*A(1,:);\n",
    "A"
   ]
  },
  {
   "cell_type": "code",
   "execution_count": 3,
   "metadata": {},
   "outputs": [
    {
     "name": "stdout",
     "output_type": "stream",
     "text": [
      "\n",
      "A =\n",
      "\n",
      "     1     2     3     4\n",
      "     0    -2    -5    -8\n",
      "     0    -8   -16   -24\n",
      "\n"
     ]
    }
   ],
   "source": [
    "A(3,:) = A(3,:) - (9)*A(1,:);\n",
    "A"
   ]
  },
  {
   "cell_type": "code",
   "execution_count": 4,
   "metadata": {},
   "outputs": [
    {
     "name": "stdout",
     "output_type": "stream",
     "text": [
      "\n",
      "A =\n",
      "\n",
      "     1     2     3     4\n",
      "     0    -2    -5    -8\n",
      "     0     0     4     8\n",
      "\n"
     ]
    }
   ],
   "source": [
    "A(3,:) = A(3,:) - (4)*A(2,:);\n",
    "A"
   ]
  },
  {
   "cell_type": "markdown",
   "metadata": {},
   "source": [
    "Now, let's redo that computation by only referencing entries:"
   ]
  },
  {
   "cell_type": "code",
   "execution_count": 5,
   "metadata": {},
   "outputs": [
    {
     "name": "stdout",
     "output_type": "stream",
     "text": [
      "\n",
      "A =\n",
      "\n",
      "     1     2     3     4\n",
      "     0    -2    -5    -8\n",
      "     9    10    11    12\n",
      "\n"
     ]
    }
   ],
   "source": [
    "A = Asave;\n",
    "A(2,:) = A(2,:) - (A(2,1)/A(1,1))*A(1,:); % regular Gaussian elimination\n",
    "A"
   ]
  },
  {
   "cell_type": "code",
   "execution_count": 6,
   "metadata": {},
   "outputs": [
    {
     "name": "stdout",
     "output_type": "stream",
     "text": [
      "\n",
      "A =\n",
      "\n",
      "     1     2     3     4\n",
      "     0    -2    -5    -8\n",
      "     0    -8   -16   -24\n",
      "\n"
     ]
    }
   ],
   "source": [
    "A(3,:) = A(3,:) - (A(3,1)/A(1,1))*A(1,:);\n",
    "A"
   ]
  },
  {
   "cell_type": "code",
   "execution_count": 7,
   "metadata": {},
   "outputs": [
    {
     "name": "stdout",
     "output_type": "stream",
     "text": [
      "\n",
      "A =\n",
      "\n",
      "     1     2     3     4\n",
      "     0    -2    -5    -8\n",
      "     0     0     4     8\n",
      "\n"
     ]
    }
   ],
   "source": [
    "A(3,:) = A(3,:) - (A(3,2)/A(2,2))*A(2,:);\n",
    "A"
   ]
  },
  {
   "cell_type": "markdown",
   "metadata": {},
   "source": [
    "This will give a good idea on how to implement regular Gaussian elimination.\n",
    "\n",
    "We will also want to do row interchanges.  Let's interchange the first two rows of `A`.\n",
    "\n",
    "Note that the following does not work!"
   ]
  },
  {
   "cell_type": "code",
   "execution_count": 8,
   "metadata": {},
   "outputs": [
    {
     "name": "stdout",
     "output_type": "stream",
     "text": [
      "\n",
      "A =\n",
      "\n",
      "     1     2     3     4\n",
      "     4     6     7     8\n",
      "     9    10    11    12\n",
      "\n",
      "\n",
      "A =\n",
      "\n",
      "     4     6     7     8\n",
      "     4     6     7     8\n",
      "     9    10    11    12\n",
      "\n"
     ]
    }
   ],
   "source": [
    "A = Asave\n",
    "A(1,:) = A(2,:);\n",
    "A(2,:) = A(1,:);\n",
    "A"
   ]
  },
  {
   "cell_type": "markdown",
   "metadata": {},
   "source": [
    "We either need to use more sophisticated Matlab functionality or we need to save a row so that it is not overwritten.  We'll do the latter first:"
   ]
  },
  {
   "cell_type": "code",
   "execution_count": 9,
   "metadata": {},
   "outputs": [
    {
     "name": "stdout",
     "output_type": "stream",
     "text": [
      "\n",
      "A =\n",
      "\n",
      "     1     2     3     4\n",
      "     4     6     7     8\n",
      "     9    10    11    12\n",
      "\n",
      "\n",
      "A =\n",
      "\n",
      "     4     6     7     8\n",
      "     1     2     3     4\n",
      "     9    10    11    12\n",
      "\n"
     ]
    }
   ],
   "source": [
    "A = Asave\n",
    "rowsave = A(1,:);\n",
    "A(1,:) = A(2,:);\n",
    "A(2,:) = rowsave;\n",
    "A"
   ]
  },
  {
   "cell_type": "markdown",
   "metadata": {},
   "source": [
    "Using more complicated Matlab functionality:"
   ]
  },
  {
   "cell_type": "code",
   "execution_count": 10,
   "metadata": {},
   "outputs": [
    {
     "name": "stdout",
     "output_type": "stream",
     "text": [
      "\n",
      "A =\n",
      "\n",
      "     1     2     3     4\n",
      "     4     6     7     8\n",
      "     9    10    11    12\n",
      "\n",
      "\n",
      "ans =\n",
      "\n",
      "     1     2     3     4\n",
      "     4     6     7     8\n",
      "\n"
     ]
    }
   ],
   "source": [
    "A = Asave\n",
    "A([1,2],:)"
   ]
  },
  {
   "cell_type": "code",
   "execution_count": 11,
   "metadata": {},
   "outputs": [
    {
     "name": "stdout",
     "output_type": "stream",
     "text": [
      "\n",
      "A =\n",
      "\n",
      "     1     2     3     4\n",
      "     4     6     7     8\n",
      "     9    10    11    12\n",
      "\n",
      "\n",
      "ans =\n",
      "\n",
      "     4     6     7     8\n",
      "     1     2     3     4\n",
      "\n"
     ]
    }
   ],
   "source": [
    "A = Asave\n",
    "A([2,1],:)"
   ]
  },
  {
   "cell_type": "code",
   "execution_count": 12,
   "metadata": {},
   "outputs": [
    {
     "name": "stdout",
     "output_type": "stream",
     "text": [
      "\n",
      "A =\n",
      "\n",
      "     1     2     3     4\n",
      "     4     6     7     8\n",
      "     9    10    11    12\n",
      "\n",
      "\n",
      "A =\n",
      "\n",
      "     4     6     7     8\n",
      "     1     2     3     4\n",
      "     9    10    11    12\n",
      "\n"
     ]
    }
   ],
   "source": [
    "A = Asave\n",
    "A([1,2],:) = A([2,1],:);\n",
    "A"
   ]
  },
  {
   "cell_type": "markdown",
   "metadata": {},
   "source": [
    "This works because Matlab let's us index multiple rows and columns at once:"
   ]
  },
  {
   "cell_type": "code",
   "execution_count": 13,
   "metadata": {},
   "outputs": [
    {
     "name": "stdout",
     "output_type": "stream",
     "text": [
      "\n",
      "A =\n",
      "\n",
      "     1     2     3     4\n",
      "     4     6     7     8\n",
      "     9    10    11    12\n",
      "\n",
      "\n",
      "ans =\n",
      "\n",
      "     9    10    11    12\n",
      "     4     6     7     8\n",
      "     1     2     3     4\n",
      "\n"
     ]
    }
   ],
   "source": [
    "A = Asave\n",
    "A([3,2,1],:) % reverse the order of the rows"
   ]
  },
  {
   "cell_type": "code",
   "execution_count": 14,
   "metadata": {},
   "outputs": [
    {
     "name": "stdout",
     "output_type": "stream",
     "text": [
      "\n",
      "A =\n",
      "\n",
      "     1     2     3     4\n",
      "     4     6     7     8\n",
      "     9    10    11    12\n",
      "\n",
      "\n",
      "ans =\n",
      "\n",
      "     9    10    11    12\n",
      "     4     6     7     8\n",
      "     1     2     3     4\n",
      "     9    10    11    12\n",
      "     9    10    11    12\n",
      "\n"
     ]
    }
   ],
   "source": [
    "A = Asave\n",
    "A([3,2,1,3,3],:) % reverse the order of the rows"
   ]
  },
  {
   "cell_type": "markdown",
   "metadata": {},
   "source": [
    "## Matrix construction with `vertcat` and `horzcat`"
   ]
  },
  {
   "cell_type": "markdown",
   "metadata": {},
   "source": [
    "The functions `vertcat` and `horzcat` stand for vertical and horizontal concatenation.  `vertcat` stacks matrices on top of each other while `horzcat` will do the same thing in the horizontal direction:"
   ]
  },
  {
   "cell_type": "code",
   "execution_count": 15,
   "metadata": {},
   "outputs": [
    {
     "name": "stdout",
     "output_type": "stream",
     "text": [
      "\n",
      "A =\n",
      "\n",
      "     1     2\n",
      "     3     4\n",
      "\n",
      "\n",
      "B =\n",
      "\n",
      "     5     6\n",
      "     7     8\n",
      "\n"
     ]
    }
   ],
   "source": [
    "A = [1,2;3,4]\n",
    "B = [5,6;7,8]"
   ]
  },
  {
   "cell_type": "code",
   "execution_count": 16,
   "metadata": {},
   "outputs": [
    {
     "name": "stdout",
     "output_type": "stream",
     "text": [
      "\n",
      "ans =\n",
      "\n",
      "     1     2     5     6\n",
      "     3     4     7     8\n",
      "\n"
     ]
    }
   ],
   "source": [
    "horzcat(A,B)"
   ]
  },
  {
   "cell_type": "code",
   "execution_count": 17,
   "metadata": {},
   "outputs": [
    {
     "name": "stdout",
     "output_type": "stream",
     "text": [
      "\n",
      "ans =\n",
      "\n",
      "     2     4\n",
      "\n"
     ]
    }
   ],
   "source": [
    "size(horzcat(A,B))"
   ]
  },
  {
   "cell_type": "markdown",
   "metadata": {},
   "source": [
    "We can also save these dimensions all at once:"
   ]
  },
  {
   "cell_type": "code",
   "execution_count": 18,
   "metadata": {},
   "outputs": [
    {
     "name": "stdout",
     "output_type": "stream",
     "text": [
      "\n",
      "m =\n",
      "\n",
      "     2\n",
      "\n",
      "\n",
      "n =\n",
      "\n",
      "     4\n",
      "\n"
     ]
    }
   ],
   "source": [
    "[m,n] = size(horzcat(A,B))"
   ]
  },
  {
   "cell_type": "code",
   "execution_count": 19,
   "metadata": {},
   "outputs": [
    {
     "name": "stdout",
     "output_type": "stream",
     "text": [
      "\n",
      "ans =\n",
      "\n",
      "     1     2\n",
      "     3     4\n",
      "     5     6\n",
      "     7     8\n",
      "\n"
     ]
    }
   ],
   "source": [
    "vertcat(A,B)"
   ]
  },
  {
   "cell_type": "markdown",
   "metadata": {},
   "source": [
    "These perform the exact same thing as using \"block matrix\" notation:"
   ]
  },
  {
   "cell_type": "code",
   "execution_count": 20,
   "metadata": {},
   "outputs": [
    {
     "name": "stdout",
     "output_type": "stream",
     "text": [
      "\n",
      "ans =\n",
      "\n",
      "     1     2     5     6\n",
      "     3     4     7     8\n",
      "\n"
     ]
    }
   ],
   "source": [
    "[A,B] % same as horzcat"
   ]
  },
  {
   "cell_type": "code",
   "execution_count": 21,
   "metadata": {},
   "outputs": [
    {
     "name": "stdout",
     "output_type": "stream",
     "text": [
      "\n",
      "ans =\n",
      "\n",
      "     1     2\n",
      "     3     4\n",
      "     5     6\n",
      "     7     8\n",
      "\n"
     ]
    }
   ],
   "source": [
    "[A;B] % same as vertcat"
   ]
  },
  {
   "cell_type": "markdown",
   "metadata": {},
   "source": [
    "The main place you will encounter the need to do this is when you are saving output for a coding project.\n",
    "\n",
    "Suppose we are solving the following problem\n",
    "\n",
    "_Problem_\n",
    "\n",
    "Write code to compute the sum $S_k = \\sum_{j=1}^k 1/j^2$ for $k = 10,100,1000$ and construct the row vector\n",
    "\n",
    "$$T1 = \\begin{bmatrix} S_{10} & S_{100} & S_{1000} \\end{bmatrix}.$$"
   ]
  },
  {
   "cell_type": "markdown",
   "metadata": {},
   "source": [
    "Caution!"
   ]
  },
  {
   "cell_type": "code",
   "execution_count": 22,
   "metadata": {},
   "outputs": [
    {
     "name": "stdout",
     "output_type": "stream",
     "text": [
      "\n",
      "ans =\n",
      "\n",
      "     6\n",
      "\n"
     ]
    }
   ],
   "source": [
    "sum([1,2,3])"
   ]
  },
  {
   "cell_type": "code",
   "execution_count": 23,
   "metadata": {},
   "outputs": [
    {
     "name": "stderr",
     "output_type": "stream",
     "text": [
      "\u001b[0;31mIndex exceeds the number of array elements (1).\n",
      "\n",
      "\u001b[0m"
     ]
    }
   ],
   "source": [
    "sum = 0;\n",
    "sum([1,2,3])"
   ]
  },
  {
   "cell_type": "code",
   "execution_count": 24,
   "metadata": {},
   "outputs": [
    {
     "name": "stdout",
     "output_type": "stream",
     "text": [
      "\n",
      "T1 =\n",
      "\n",
      "    1.5498\n",
      "\n",
      "\n",
      "T1 =\n",
      "\n",
      "    1.5498    1.6350\n",
      "\n",
      "\n",
      "T1 =\n",
      "\n",
      "    1.5498    1.6350    1.6439\n",
      "\n",
      "\n",
      "T1 =\n",
      "\n",
      "    1.5498    1.6350    1.6439\n",
      "\n"
     ]
    }
   ],
   "source": [
    "T1 = [];\n",
    "k = 10;\n",
    "for l = 1:3\n",
    "    SUM = 0;\n",
    "    for j = 1:k\n",
    "        SUM = SUM + 1/j^2;\n",
    "    end\n",
    "    T1 = horzcat(T1,[SUM])\n",
    "    k = 10*k;\n",
    "end\n",
    "T1"
   ]
  },
  {
   "cell_type": "code",
   "execution_count": 25,
   "metadata": {},
   "outputs": [
    {
     "name": "stdout",
     "output_type": "stream",
     "text": [
      "\n",
      "T1 =\n",
      "\n",
      "    1.5498\n",
      "\n",
      "\n",
      "T1 =\n",
      "\n",
      "    1.5498    1.6350\n",
      "\n",
      "\n",
      "T1 =\n",
      "\n",
      "    1.5498    1.6350    1.6439\n",
      "\n",
      "\n",
      "T1 =\n",
      "\n",
      "    1.5498    1.6350    1.6439\n",
      "\n"
     ]
    }
   ],
   "source": [
    "T1 = [];\n",
    "k = 10;\n",
    "for l = 1:3\n",
    "    SUM = 0;\n",
    "    for j = 1:k\n",
    "        SUM = SUM + 1/j^2;\n",
    "    end\n",
    "    T1 = horzcat(T1,SUM)  % matlab is robust!\n",
    "    k = 10*k;\n",
    "end\n",
    "T1"
   ]
  },
  {
   "cell_type": "markdown",
   "metadata": {},
   "source": [
    "## Potential pitfals in Matlab\n",
    "\n",
    "Those of you who are used to the `Python` or `Julia` programming languages will be used to indexing matrices and vectors with `x[1]`.  As we have seen, Matlab uses the syntax `x(1)` instead.  But mistakenly doing this can give some strange output:"
   ]
  },
  {
   "cell_type": "code",
   "execution_count": 26,
   "metadata": {},
   "outputs": [
    {
     "name": "stderr",
     "output_type": "stream",
     "text": [
      "\u001b[0;31mError: Invalid expression. When calling a function or indexing a variable, use parentheses. Otherwise, check for mismatched delimiters.\n",
      "\n",
      "\u001b[0m"
     ]
    }
   ],
   "source": [
    "x = randn(1,10)\n",
    "x[1]"
   ]
  },
  {
   "cell_type": "code",
   "execution_count": 28,
   "metadata": {},
   "outputs": [
    {
     "name": "stdout",
     "output_type": "stream",
     "text": [
      "\n",
      "x =\n",
      "\n",
      "    0.5377    1.8339   -2.2588    0.8622    0.3188   -1.3077   -0.4336    0.3426    3.5784    2.7694\n",
      "\n"
     ]
    }
   ],
   "source": [
    "x = randn(1,10)"
   ]
  },
  {
   "cell_type": "code",
   "execution_count": 29,
   "metadata": {},
   "outputs": [
    {
     "name": "stdout",
     "output_type": "stream",
     "text": [
      "\n",
      "ans =\n",
      "\n",
      "  logical\n",
      "\n",
      "   0\n",
      "\n",
      "\n",
      "ans =\n",
      "\n",
      "  logical\n",
      "\n",
      "   1\n",
      "\n",
      "\n",
      "ans =\n",
      "\n",
      "  logical\n",
      "\n",
      "   1\n",
      "\n",
      "\n",
      "ans =\n",
      "\n",
      "  logical\n",
      "\n",
      "   1\n",
      "\n",
      "\n",
      "ans =\n",
      "\n",
      "  logical\n",
      "\n",
      "   1\n",
      "\n",
      "\n",
      "ans =\n",
      "\n",
      "  logical\n",
      "\n",
      "   1\n",
      "\n",
      "\n",
      "ans =\n",
      "\n",
      "  logical\n",
      "\n",
      "   1\n",
      "\n",
      "\n",
      "ans =\n",
      "\n",
      "  logical\n",
      "\n",
      "   1\n",
      "\n",
      "\n",
      "ans =\n",
      "\n",
      "  logical\n",
      "\n",
      "   1\n",
      "\n",
      "\n",
      "ans =\n",
      "\n",
      "  logical\n",
      "\n",
      "   1\n",
      "\n",
      "\n",
      "SUM =\n",
      "\n",
      "    10\n",
      "\n"
     ]
    }
   ],
   "source": [
    "SUM = 0;\n",
    "for i = 1:length(x)\n",
    "    if x[i] > 1. % not correct syntax!!!!!!!\n",
    "        SUM = SUM + 1;\n",
    "    end\n",
    "end\n",
    "SUM"
   ]
  },
  {
   "cell_type": "markdown",
   "metadata": {},
   "source": [
    "It's clear here that this is not the correct output but the code actually executes!  This can lead to not catching bugs in code."
   ]
  },
  {
   "cell_type": "code",
   "execution_count": 31,
   "metadata": {},
   "outputs": [
    {
     "name": "stdout",
     "output_type": "stream",
     "text": [
      "\n",
      "SUM =\n",
      "\n",
      "    10\n",
      "\n"
     ]
    }
   ],
   "source": [
    "SUM"
   ]
  },
  {
   "cell_type": "markdown",
   "metadata": {},
   "source": [
    "But the real answer should be:"
   ]
  },
  {
   "cell_type": "code",
   "execution_count": 32,
   "metadata": {},
   "outputs": [
    {
     "name": "stdout",
     "output_type": "stream",
     "text": [
      "\n",
      "SUM =\n",
      "\n",
      "     3\n",
      "\n"
     ]
    }
   ],
   "source": [
    "SUM = 0;\n",
    "for i = 1:length(x)\n",
    "    if x(i) > 1. % note the parens\n",
    "        SUM = SUM + 1;\n",
    "    end\n",
    "end\n",
    "SUM"
   ]
  },
  {
   "cell_type": "markdown",
   "metadata": {},
   "source": [
    "An alternate way!"
   ]
  },
  {
   "cell_type": "code",
   "execution_count": 34,
   "metadata": {},
   "outputs": [
    {
     "name": "stderr",
     "output_type": "stream",
     "text": [
      "\u001b[0;31mThe logical indices contain a true value outside of the array bounds.\n",
      "\n",
      "\u001b[0m"
     ]
    }
   ],
   "source": [
    "sum(x > 1)"
   ]
  },
  {
   "cell_type": "markdown",
   "metadata": {},
   "source": [
    "Oops! `sum()` has been overwritten"
   ]
  },
  {
   "cell_type": "markdown",
   "metadata": {},
   "source": [
    "## Finding the location of the largest element in a vector\n",
    "\n",
    "A key subroutine that is needed for Gaussian elimination with partial pivoting (see Lecture 6) is one that finds the location of the largest, in absolute value, entry in a vector."
   ]
  },
  {
   "cell_type": "code",
   "execution_count": 35,
   "metadata": {},
   "outputs": [
    {
     "name": "stdout",
     "output_type": "stream",
     "text": [
      "\n",
      "x =\n",
      "\n",
      "    0.5377    1.8339   -2.2588    0.8622    0.3188   -1.3077   -0.4336    0.3426    3.5784    2.7694\n",
      "\n"
     ]
    }
   ],
   "source": [
    "x"
   ]
  },
  {
   "cell_type": "code",
   "execution_count": 38,
   "metadata": {},
   "outputs": [
    {
     "name": "stdout",
     "output_type": "stream",
     "text": [
      "\n",
      "ind =\n",
      "\n",
      "     9\n",
      "\n"
     ]
    }
   ],
   "source": [
    "ind = 1;\n",
    "MAX = abs(x(ind));\n",
    "for i = 2:length(x)\n",
    "    if abs(x(i)) > MAX\n",
    "        ind = i;\n",
    "        MAX = abs(x(ind));\n",
    "    end\n",
    "end\n",
    "ind"
   ]
  },
  {
   "cell_type": "markdown",
   "metadata": {},
   "source": [
    "## Comments on floating point arithmetic\n",
    "\n",
    "Matlab does not perform exact arithmetic.  Instead it uses what is called floating point arithmetic, something that is incredibly common in modern computing.  The specifics of this are not important for this course but just knowing that it exists is needed to understand why certain algorithms are the way they are.  For example, consider solving \n",
    "\n",
    "$$0.00001x^2 + 20x + 1 = 0.$$\n",
    "\n",
    "\n",
    "$$ x = \\frac{-20 \\pm \\sqrt{400 - 4(0.00001)}}{0.00002}$$"
   ]
  },
  {
   "cell_type": "code",
   "execution_count": 39,
   "metadata": {},
   "outputs": [
    {
     "name": "stdout",
     "output_type": "stream",
     "text": [
      "\n",
      "x =\n",
      "\n",
      "    -1.999999949999999e+06\n",
      "\n",
      "\n",
      "ans =\n",
      "\n",
      "     0\n",
      "\n"
     ]
    }
   ],
   "source": [
    "format long\n",
    "a = 0.00001; b = 20.; c = 1;\n",
    "x = (-b - sqrt(b^2 - 4*a*c))/(2*a) % quadratic formula!\n",
    "a*x^2 + b*x + c % plug in to see that it \"is\" a root"
   ]
  },
  {
   "cell_type": "code",
   "execution_count": 40,
   "metadata": {},
   "outputs": [
    {
     "name": "stdout",
     "output_type": "stream",
     "text": [
      "\n",
      "x =\n",
      "\n",
      "  -0.050000001294848\n",
      "\n",
      "\n",
      "ans =\n",
      "\n",
      "    -8.969505138622935e-10\n",
      "\n"
     ]
    }
   ],
   "source": [
    "format long\n",
    "a = 0.00001; b = 20.; c = 1;\n",
    "x = (-b + sqrt(b^2 - 4*a*c))/(2*a) % choose the + sign\n",
    "a*x^2 + b*x + c % plug in to see that it \"is\" a root"
   ]
  },
  {
   "cell_type": "markdown",
   "metadata": {},
   "source": [
    "Clearly, $-8.96\\ldots \\times 10^{-10}$ is not zero!  But we can get a better result:\n",
    "\n",
    "$$ x = \\frac{- b \\pm \\sqrt{b^2 - 4ac}}{2a} = \\frac{- b \\pm \\sqrt{b^2 - 4ac}}{2a} \\frac{- b \\mp \\sqrt{b^2 - 4ac}}{- b \\mp \\sqrt{b^2 - 4ac}} = \\frac{2c}{- b \\mp \\sqrt{b^2 - 4ac}} $$"
   ]
  },
  {
   "cell_type": "code",
   "execution_count": 41,
   "metadata": {},
   "outputs": [
    {
     "name": "stdout",
     "output_type": "stream",
     "text": [
      "\n",
      "x =\n",
      "\n",
      "  -0.050000001250000\n",
      "\n",
      "\n",
      "ans =\n",
      "\n",
      "     1.110223024625157e-16\n",
      "\n"
     ]
    }
   ],
   "source": [
    "a = 0.00001; b = 20.; c = 1.;\n",
    "x = (2*c)/(-b - sqrt(b^2 - 4*a*c))\n",
    "a*x^2 + b*x + c % should be zero!"
   ]
  },
  {
   "cell_type": "markdown",
   "metadata": {},
   "source": [
    "We get something that is MUCH closer to being zero.  \n",
    "\n",
    "\n",
    "__In numerical computations, the order in which operations are performed matter__\n",
    "\n",
    "So, this is an adequate way to solve this problem.  But let's understand why its not exactly zero."
   ]
  },
  {
   "cell_type": "markdown",
   "metadata": {},
   "source": [
    "## Machine epsilon\n",
    "\n",
    "Machine epsilon is the distance between 1 and the next largest machine representable number.  It can be shown that the following simple code produces machine epsilon."
   ]
  },
  {
   "cell_type": "code",
   "execution_count": 42,
   "metadata": {},
   "outputs": [
    {
     "name": "stdout",
     "output_type": "stream",
     "text": [
      "\n",
      "ans =\n",
      "\n",
      "     2.220446049250313e-16\n",
      "\n"
     ]
    }
   ],
   "source": [
    "eps"
   ]
  },
  {
   "cell_type": "code",
   "execution_count": 43,
   "metadata": {},
   "outputs": [
    {
     "name": "stdout",
     "output_type": "stream",
     "text": [
      "\n",
      "ans =\n",
      "\n",
      "     2.220446049250313e-16\n",
      "\n"
     ]
    }
   ],
   "source": [
    "a = 4/3;\n",
    "b = a - 1;\n",
    "c = b + b + b;\n",
    "1-c"
   ]
  },
  {
   "cell_type": "code",
   "execution_count": 44,
   "metadata": {},
   "outputs": [
    {
     "name": "stdout",
     "output_type": "stream",
     "text": [
      "\n",
      "ans =\n",
      "\n",
      "     2.220446049250313e-16\n",
      "\n"
     ]
    }
   ],
   "source": [
    "s = 1.;\n",
    "while 1+s > 1\n",
    "    s = s/2;\n",
    "end\n",
    "2*s"
   ]
  },
  {
   "cell_type": "markdown",
   "metadata": {},
   "source": [
    "## Rounding errors in linear algebra"
   ]
  },
  {
   "cell_type": "code",
   "execution_count": 52,
   "metadata": {},
   "outputs": [
    {
     "name": "stdout",
     "output_type": "stream",
     "text": [
      "\n",
      "x1 =\n",
      "\n",
      "    -2.220446049250313e-08\n",
      "\n"
     ]
    }
   ],
   "source": [
    "ep = 1e-8;\n",
    "format long\n",
    "A = [ep,1;1,1];\n",
    "b = [1;1-ep];\n",
    "U = [A,b]; % also a horzcat\n",
    "U(2,:) = U(2,:) - (U(2,1)/U(1,1))*U(1,:);\n",
    "x2 = U(2,3)/U(2,2);  %back sub\n",
    "x1 = (U(1,3) - U(1,2)*x2)/U(1,1)"
   ]
  },
  {
   "cell_type": "markdown",
   "metadata": {},
   "source": [
    "The real solution to this linear system is\n",
    "\n",
    "$$ x_1 = \\frac{\\epsilon}{\\epsilon - 1}, \\quad x_2 = \\frac{\\epsilon-1-\\epsilon^2}{\\epsilon - 1}.$$"
   ]
  },
  {
   "cell_type": "code",
   "execution_count": 55,
   "metadata": {},
   "outputs": [],
   "source": [
    "x1_real = ep/(ep-1);\n",
    "x2_real = (ep-1-ep^2)/(ep-1);"
   ]
  },
  {
   "cell_type": "code",
   "execution_count": 56,
   "metadata": {},
   "outputs": [
    {
     "name": "stdout",
     "output_type": "stream",
     "text": [
      "\n",
      "err1 =\n",
      "\n",
      "    -1.220446039250313e-08\n",
      "\n",
      "\n",
      "err2 =\n",
      "\n",
      "     0\n",
      "\n"
     ]
    }
   ],
   "source": [
    "err1 = x1-x1_real\n",
    "err2 = x2-x2_real"
   ]
  },
  {
   "cell_type": "markdown",
   "metadata": {},
   "source": [
    "This error issue is completely fixed by a row interchange!"
   ]
  },
  {
   "cell_type": "code",
   "execution_count": 57,
   "metadata": {},
   "outputs": [
    {
     "name": "stdout",
     "output_type": "stream",
     "text": [
      "\n",
      "err1 =\n",
      "\n",
      "    -1.722921957828615e-16\n",
      "\n",
      "\n",
      "err2 =\n",
      "\n",
      "     0\n",
      "\n"
     ]
    }
   ],
   "source": [
    "A = [1,1;ep,1];\n",
    "b = [1-ep;1];\n",
    "U = [A,b];\n",
    "U(2,:) = U(2,:) - (U(2,1)/U(1,1))*U(1,:);\n",
    "x2 = U(2,3)/U(2,2);\n",
    "x1 = 1/U(1,1)*(U(1,3) - U(1,2)*x2);\n",
    "\n",
    "err1 = x1-x1_real\n",
    "err2 = x2-x2_real"
   ]
  },
  {
   "cell_type": "code",
   "execution_count": null,
   "metadata": {},
   "outputs": [],
   "source": []
  }
 ],
 "metadata": {
  "kernelspec": {
   "display_name": "Matlab",
   "language": "matlab",
   "name": "matlab"
  },
  "language_info": {
   "codemirror_mode": "octave",
   "file_extension": ".m",
   "help_links": [
    {
     "text": "MetaKernel Magics",
     "url": "https://metakernel.readthedocs.io/en/latest/source/README.html"
    }
   ],
   "mimetype": "text/x-octave",
   "name": "matlab",
   "version": "0.16.11"
  }
 },
 "nbformat": 4,
 "nbformat_minor": 4
}
