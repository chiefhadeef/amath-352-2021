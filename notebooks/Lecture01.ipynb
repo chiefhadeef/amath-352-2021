{
 "cells": [
  {
   "cell_type": "markdown",
   "metadata": {
    "slideshow": {
     "slide_type": "slide"
    }
   },
   "source": [
    "# Lecture 01: Welcome to AMATH 352\n",
    "\n",
    "Major topics covered in the whole course:\n",
    "\n",
    "1. Introductory linear algebra\n",
    "2. Computational linear algebra\n",
    "3. Introduction to MATLAB\n",
    "\n",
    "The syllabus can be found on the main [course webpage](https://canvas.uw.edu/courses/1433262).  The course materials can be found at this site or [here](https://github.com/trogdoncourses/amath-352-2021).\n",
    "\n",
    "This course consists soley of a lecture section (MWF 12:30-1:20pm, SMI 211).  \n",
    "\n",
    "Office hours: M 3-4pm, W 3-5pm (TA hours soon)\n"
   ]
  },
  {
   "cell_type": "markdown",
   "metadata": {
    "slideshow": {
     "slide_type": "slide"
    }
   },
   "source": [
    "## Olver & Shakiban 1.1 and 1.2"
   ]
  },
  {
   "cell_type": "markdown",
   "metadata": {},
   "source": [
    "Notes for this lecture: [Lecture 01](https://drive.google.com/file/d/1-QMQmNFqywMq6-IWAm0Ja0RammhvqExk/view?usp=sharing)"
   ]
  }
 ],
 "metadata": {
  "celltoolbar": "Slideshow",
  "kernelspec": {
   "display_name": "Matlab",
   "language": "matlab",
   "name": "matlab"
  },
  "language_info": {
   "codemirror_mode": "octave",
   "file_extension": ".m",
   "help_links": [
    {
     "text": "MetaKernel Magics",
     "url": "https://metakernel.readthedocs.io/en/latest/source/README.html"
    }
   ],
   "mimetype": "text/x-octave",
   "name": "matlab",
   "version": "0.16.11"
  }
 },
 "nbformat": 4,
 "nbformat_minor": 1
}
