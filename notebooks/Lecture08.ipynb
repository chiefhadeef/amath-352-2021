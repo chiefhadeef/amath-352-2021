{
 "cells": [
  {
   "cell_type": "markdown",
   "metadata": {},
   "source": [
    "# Lecture 08\n",
    "\n",
    "## Parts of Olver & Shakiban 1.5 & 1.7"
   ]
  },
  {
   "cell_type": "markdown",
   "metadata": {},
   "source": [
    "Lecture notes are available [here](https://drive.google.com/file/d/1xv6NhOwzRQsb_YjFlrYcFd_X82-iFuQZ/view?usp=sharing)"
   ]
  },
  {
   "cell_type": "markdown",
   "metadata": {},
   "source": [
    "The Matlab files demoed are on the web: [Lecture_08a.m](https://github.com/trogdoncourses/amath-352-2021/blob/main/notebooks/Lecture_08a.m) [add_it_up_version_two.m](https://github.com/trogdoncourses/amath-352-2021/blob/main/notebooks/add_it_up_version_two.m)"
   ]
  }
 ],
 "metadata": {
  "kernelspec": {
   "display_name": "Matlab",
   "language": "matlab",
   "name": "matlab"
  },
  "language_info": {
   "codemirror_mode": "octave",
   "file_extension": ".m",
   "help_links": [
    {
     "text": "MetaKernel Magics",
     "url": "https://metakernel.readthedocs.io/en/latest/source/README.html"
    }
   ],
   "mimetype": "text/x-octave",
   "name": "matlab",
   "version": "0.16.11"
  }
 },
 "nbformat": 4,
 "nbformat_minor": 2
}
